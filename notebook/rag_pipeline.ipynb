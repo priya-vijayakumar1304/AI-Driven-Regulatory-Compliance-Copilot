{
 "cells": [
  {
   "cell_type": "code",
   "execution_count": 3,
   "id": "54a36777",
   "metadata": {},
   "outputs": [
    {
     "data": {
      "text/plain": [
       "True"
      ]
     },
     "execution_count": 3,
     "metadata": {},
     "output_type": "execute_result"
    }
   ],
   "source": [
    "import os\n",
    "from dotenv import load_dotenv\n",
    "load_dotenv()"
   ]
  },
  {
   "cell_type": "code",
   "execution_count": 4,
   "id": "6b96047d",
   "metadata": {},
   "outputs": [],
   "source": [
    "os.environ['LANGCHAIN_API_KEY'] = os.getenv('LANGCHAIN_API_KEY')\n",
    "os.environ['GROQ_API_KEY'] = os.getenv('GROQ_API_KEY')\n",
    "os.environ['LANGCHAIN_PROJECT'] = os.getenv('LANGCHAIN_PROJECT')"
   ]
  },
  {
   "cell_type": "code",
   "execution_count": 9,
   "id": "b21d26e2",
   "metadata": {},
   "outputs": [
    {
     "name": "stdout",
     "output_type": "stream",
     "text": [
      "\u001b[1mOllama\u001b[0m\n",
      "Params: {'model': 'deepseek-r1:8b', 'format': None, 'options': {'mirostat': None, 'mirostat_eta': None, 'mirostat_tau': None, 'num_ctx': None, 'num_gpu': None, 'num_thread': None, 'num_predict': None, 'repeat_last_n': None, 'repeat_penalty': None, 'temperature': None, 'stop': None, 'tfs_z': None, 'top_k': None, 'top_p': None}, 'system': None, 'template': None, 'keep_alive': None, 'raw': None}\n"
     ]
    }
   ],
   "source": [
    "from langchain_community.llms import Ollama\n",
    "llm = Ollama(model=\"deepseek-r1:8b\")\n",
    "print(llm)"
   ]
  },
  {
   "cell_type": "code",
   "execution_count": 13,
   "id": "6543db42",
   "metadata": {},
   "outputs": [
    {
     "data": {
      "text/plain": [
       "\"<think>\\nHmm, the user just said “hello, how are you?” in English. This seems like a casual greeting, likely from someone testing my capabilities or starting a conversation for fun.\\n\\nOkay, first things first - they're using polite English phrasing but keeping it very brief, which suggests either they're new to chatting with AI assistants or they prefer minimal interaction before diving into actual questions. The tone feels neutral-positive though.\\n\\nI should keep my response warm but concise since there's no specific context given. Maybe add a tiny bit of personality while staying professional - that emoji might help make it friendlier without overdoing it. \\n\\nThe user didn't provide any background or ask anything substantial, so I'll position this as an invitation to continue the conversation rather than just answering literally. The “I'm here to help” part gives them permission to steer things wherever they want.\\n\\nThey probably don't need deep analysis right now - keeping it simple and friendly is best until we know more about what they actually need or want to discuss.\\n</think>\\nHello! I’m doing great, thanks for asking 😊  \\nHow are you? I hope everything’s going well with you today. What can I help you with?\""
      ]
     },
     "execution_count": 13,
     "metadata": {},
     "output_type": "execute_result"
    }
   ],
   "source": [
    "response = llm.invoke(\"hello, how are you?\")\n",
    "response"
   ]
  },
  {
   "cell_type": "code",
   "execution_count": 16,
   "id": "2c2e674b",
   "metadata": {},
   "outputs": [],
   "source": [
    "from langchain_groq import ChatGroq\n",
    "llm2 = ChatGroq(model=\"llama-3.1-8b-instant\")"
   ]
  },
  {
   "cell_type": "code",
   "execution_count": null,
   "id": "a4a3f110",
   "metadata": {},
   "outputs": [
    {
     "name": "stdout",
     "output_type": "stream",
     "text": [
      "content='I can provide you with the current stock price of Apple, but I\\'m a large language model, I don\\'t have real-time access to current market data. However, I can suggest some ways for you to find the current stock price.\\n\\n1. **Visit Apple\\'s investor website**: You can visit Apple\\'s investor website ([investor.apple.com](http://investor.apple.com)) and look for the stock price under the \"Stock Information\" section.\\n2. **Use a financial website or app**: Websites like Yahoo Finance, Google Finance, or Bloomberg provide real-time stock prices. You can search for \"AAPL\" (Apple\\'s stock symbol) to get the current stock price.\\n3. **Check the NASDAQ website**: Since Apple is listed on the NASDAQ stock exchange, you can also check the NASDAQ website ([www.nasdaq.com](http://www.nasdaq.com)) for the current stock price.\\n4. **Use a financial news website or app**: Websites like CNBC, CNN Money, or MarketWatch also provide real-time stock prices.\\n\\nPlease note that stock prices can fluctuate rapidly, so the price may change quickly. These methods will give you the most up-to-date information available.\\n\\nIf you want an approximate answer to your question, I can try to provide the historical stock price of Apple.' additional_kwargs={} response_metadata={'token_usage': {'completion_tokens': 268, 'prompt_tokens': 45, 'total_tokens': 313, 'completion_time': 0.460083057, 'prompt_time': 0.009661656, 'queue_time': 0.051522783, 'total_time': 0.469744713}, 'model_name': 'llama-3.1-8b-instant', 'system_fingerprint': 'fp_510c177af0', 'service_tier': 'on_demand', 'finish_reason': 'stop', 'logprobs': None} id='run--0133183d-58b5-4d60-8041-b13c09bfbe57-0' usage_metadata={'input_tokens': 45, 'output_tokens': 268, 'total_tokens': 313}\n"
     ]
    }
   ],
   "source": [
    "response2 = llm2.invoke(\"can you tell me the current stock price of apple\")\n",
    "print(response2)\n",
    "#better than ollama - so quick\n",
    "#https://console.groq.com/docs/models\n"
   ]
  },
  {
   "cell_type": "code",
   "execution_count": null,
   "id": "ecd7491e",
   "metadata": {},
   "outputs": [
    {
     "data": {
      "text/plain": [
       "AIMessage(content='The question “What is the meaning of life?” has been asked by thinkers, poets, scientists, and everyday people for millennia, and there isn’t a single answer that satisfies everyone. Instead, the meaning of life tends to emerge from the lenses through which we look at the world. Below are some of the most common ways people have approached the question, along with a few ideas for how you might explore it for yourself.\\n\\n---\\n\\n## 1. **Philosophical Perspectives**\\n\\n| School of Thought | Core Idea about Meaning | Example Quote |\\n|-------------------|------------------------|----------------|\\n| **Existentialism** (e.g., Sartre, Camus) | Life has no inherent purpose; we create our own meaning through choices and actions. | “Man is condemned to be free.” – Jean‑Paul Sartre |\\n| **Absurdism** (Camus) | The universe is indifferent, but we can find meaning by embracing the absurd and living passionately. | “The only way to deal with an unfree world is to become so absolutely free that your very existence is an act of rebellion.” – Albert Camus |\\n| **Utilitarianism** (Bentham, Mill) | Meaning comes from maximizing happiness or reducing suffering for the greatest number. | “The greatest happiness of the greatest number is the foundation of morals.” – Jeremy Bentham |\\n| **Stoicism** (Marcus Aurelius, Epictetus) | Meaning is found in living in accordance with virtue and accepting what we cannot control. | “The happiness of your life depends upon the quality of your thoughts.” – Marcus Aurelius |\\n| **Nihilism** (Nietzsche, often mis‑interpreted) | Traditional values and meanings are baseless; one must confront this void. | “When you look into the abyss, the abyss looks back at you.” – Friedrich Nietzsche (often paraphrased) |\\n| **Humanism** | Meaning is derived from human relationships, creativity, and the pursuit of knowledge. | “The purpose of life is to contribute in some way to making things better for others.” – Common humanist sentiment |\\n\\n**Takeaway:** Philosophical schools give you frameworks for thinking about meaning. You can adopt one, blend several, or reject them all and craft your own.\\n\\n---\\n\\n## 2. **Religious & Spiritual Traditions**\\n\\n| Tradition | Typical View of Life’s Purpose | Key Practices |\\n|-----------|-------------------------------|----------------|\\n| **Christianity** | To love God and neighbor, follow Jesus, and ultimately share in eternal life. | Prayer, worship, service, sacraments |\\n| **Islam** | To worship Allah, live according to the Qur’an, and prepare for the afterlife. | Five Pillars, daily prayers, charity |\\n| **Buddhism** | To end suffering (dukkha) by attaining enlightenment (nirvana). | Meditation, ethical conduct, mindfulness |\\n| **Hinduism** | To fulfill dharma (righteous duty), pursue artha (prosperity), kama (pleasure), and ultimately achieve moksha (liberation). | Yoga, rituals, devotion (bhakti) |\\n| **Secular Spiritualities** (e.g., Taoism, Indigenous worldviews) | Often emphasize harmony with nature, community, and the flow of existence. | Rituals, storytelling, reverence for the natural world |\\n\\n**Takeaway:** Many religions propose a transcendent purpose—be it union with the divine, moral service, or liberation from suffering. Even if you’re not religious, their practices (meditation, gratitude, community service) can be tools for finding personal meaning.\\n\\n---\\n\\n## 3. **Scientific & Evolutionary Views**\\n\\n1. **Biological Imperative** – From an evolutionary standpoint, the “purpose” of any organism is to survive, reproduce, and pass on its genes. That’s the *mechanistic* answer.\\n2. **Cosmic Perspective** – Astronomers like Carl Sagan remind us that we’re “made of star‑stuff,” suggesting a poetic meaning: we are a way for the universe to become aware of itself.\\n3. **Psychology & Well‑Being** – Research (e.g., positive psychology) shows that meaning correlates with purpose‑driven activities: relationships, mastery, contribution, and a sense of belonging. Viktor Frankl’s *Man’s Search for Meaning* blends existential philosophy with clinical observation: “Even in the most terrible circumstances, we can find meaning by choosing our attitude.”\\n\\n**Takeaway:** Science can’t dictate a “final” meaning, but it offers clues about what humans tend to find fulfilling: connection, growth, and contributing to something larger than oneself.\\n\\n---\\n\\n## 4. **Personal & Narrative Approaches**\\n\\nMany contemporary thinkers argue that meaning is **narrative**—the story we tell about our lives.\\n\\n- **Identify Core Values:** What principles feel non‑negotiable to you? (e.g., honesty, compassion, curiosity.)\\n- **Set Purposeful Goals:** Align actions with those values. A goal to “mentor younger colleagues” may reflect a value of generosity.\\n- **Create a Life Story:** Reflect on past experiences that felt *significant* and ask how they fit into a larger arc. This can turn random events into a coherent narrative.\\n\\n**Exercise:** Write a brief “future autobiography” (5–10 years from now). Describe a day in your life that feels meaningful. Then work backward: what steps will you need to take to get there?\\n\\n---\\n\\n## 5. **Practical Steps to Explore Your Own Meaning**\\n\\n1. **Reflect Daily** – Keep a journal. Note moments when you felt *alive*, *engaged*, or *at peace*. Look for patterns.\\n2. **Experiment** – Try new activities (volunteering, learning a skill, traveling). Novel experiences often reveal hidden passions.\\n3. **Connect** – Deep relationships are repeatedly shown to be the strongest predictor of life satisfaction.\\n4. **Serve** – Helping others can provide an immediate sense of purpose, even if it’s a small act.\\n5. **Seek Community** – Join groups (book clubs, sports teams, faith communities) where shared values reinforce meaning.\\n6. **Read Widely** – Philosophical texts, memoirs, poetry, and scientific literature all offer different lenses.\\n7. **Mindfulness & Meditation** – These practices quiet the mental chatter, allowing you to hear what truly matters to you.\\n\\n---\\n\\n## 6. **A Quick “Toolkit” for Meaning‑Seeking**\\n\\n| Tool | How It Helps | Example |\\n|------|--------------|---------|\\n| **Values Clarification Worksheet** | Pinpoints what you truly care about. | Rank “creativity, security, adventure, community.” |\\n| **Ikigai Diagram** (Japanese concept) | Finds the sweet spot where what you love, what you’re good at, what the world needs, and what you can be paid for intersect. | A teacher who loves storytelling, is skilled at explaining, meets a community need, and earns a living. |\\n| **Legacy Letter** | Imagine writing a letter to future generations; what would you want them to know about you? | “I hope you always remember to listen more than you speak.” |\\n| **Gratitude List** | Highlights what already gives life meaning. | “I’m grateful for my morning coffee, my dog’s wagging tail, the sunrise.” |\\n| **“Three‑Year Vision Board”** | Visualizes a purpose‑filled future. | Images of hiking, publishing a book, teaching a workshop. |\\n\\n---\\n\\n## 7. **Bottom Line**\\n\\n- **There is no universal answer** that applies to everyone, but there are many *paths* you can explore.\\n- Meaning often **emerges** from a combination of: personal values, relationships, contributions to something larger, and the narratives we construct.\\n- You can **borrow** frameworks from philosophy, religion, science, or art, but ultimately you decide which resonate and how to live them out.\\n\\n**A simple starter question for you:** *When you look back on today (or tomorrow), what would make you feel that the day was worthwhile?*  \\n\\nAnswering that, even in small increments, gradually builds a life that feels meaningful to *you*.\\n\\nIf you’d like to dive deeper into any of the perspectives above—perhaps an exercise in creating an Ikigai diagram, a reading list, or a meditation routine—just let me know!', additional_kwargs={'reasoning_content': 'The user asks a philosophical question: \"what is the meaning of life?\" We need to respond. According to policy, we can discuss philosophical topics. Provide thoughtful answer, possibly multiple perspectives: religious, philosophical, scientific, personal meaning. Encourage reflection. No disallowed content. Provide balanced view.'}, response_metadata={'token_usage': {'completion_tokens': 1806, 'prompt_tokens': 78, 'total_tokens': 1884, 'completion_time': 3.593807531, 'prompt_time': 0.002773601, 'queue_time': 0.048625839, 'total_time': 3.596581132}, 'model_name': 'openai/gpt-oss-120b', 'system_fingerprint': 'fp_ed9190d8b7', 'service_tier': 'on_demand', 'finish_reason': 'stop', 'logprobs': None}, id='run--497c6809-4f96-4375-ae3a-016b173f8f2d-0', usage_metadata={'input_tokens': 78, 'output_tokens': 1806, 'total_tokens': 1884})"
      ]
     },
     "execution_count": 19,
     "metadata": {},
     "output_type": "execute_result"
    }
   ],
   "source": [
    "llm3 = ChatGroq(model=\"openai/gpt-oss-120b\")\n",
    "response3 = llm3.invoke(\"what is the meaning of life?\")\n",
    "response3"
   ]
  },
  {
   "cell_type": "code",
   "execution_count": 20,
   "id": "a77f55ad",
   "metadata": {},
   "outputs": [
    {
     "data": {
      "text/plain": [
       "langchain_core.messages.ai.AIMessage"
      ]
     },
     "execution_count": 20,
     "metadata": {},
     "output_type": "execute_result"
    }
   ],
   "source": [
    "type(response3)"
   ]
  },
  {
   "cell_type": "code",
   "execution_count": null,
   "id": "75e138bb",
   "metadata": {},
   "outputs": [
    {
     "data": {
      "text/plain": [
       "AIMessage(content=\"The question of the meaning of life is one of the most profound and enduring questions in human history, with various perspectives and interpretations across cultures, philosophies, and individuals. Here's a comprehensive overview of different approaches:\\n\\n**Philosophical perspectives:**\\n\\n1. **Existentialism**: This philosophy, led by thinkers like Jean-Paul Sartre and Martin Heidegger, suggests that life has no inherent meaning, and it's up to each individual to create their own purpose.\\n2. **Hedonism**: This perspective emphasizes the pursuit of pleasure, happiness, and fulfillment as the ultimate goal of life.\\n3. **Stoicism**: Stoicism, inspired by ancient Greek and Roman philosophers like Epictetus and Seneca, focuses on living in accordance with reason, virtue, and nature.\\n4. **Utilitarianism**: This philosophy, developed by Jeremy Bentham and John Stuart Mill, suggests that the meaning of life is to maximize overall happiness and well-being.\\n\\n**Religious perspectives:**\\n\\n1. **Christianity**: For Christians, the meaning of life is to love and serve God, follow Jesus' teachings, and pursue eternal salvation.\\n2. **Buddhism**: In Buddhism, the meaning of life is to attain enlightenment, escape suffering, and achieve nirvana through the Eightfold Path and the Four Noble Truths.\\n3. **Islam**: For Muslims, the meaning of life is to submit to Allah's will, follow the Five Pillars, and strive for spiritual growth and paradise in the afterlife.\\n4. **Hinduism**: Hinduism offers various perspectives, but some key concepts include the pursuit of dharma (duty), karma (action and consequence), and moksha (liberation from the cycle of rebirth).\\n\\n**Scientific perspectives:**\\n\\n1. **Evolutionary theory**: From a biological perspective, the meaning of life is to survive, reproduce, and pass on genes to future generations.\\n2. **Cosmology**: Some theories, like the multiverse hypothesis, suggest that life's purpose is to exist within a vast, ever-expanding universe.\\n\\n**Personal perspectives:**\\n\\n1. **Self-actualization**: Many people believe that the meaning of life is to fulfill one's potential, pursue passions, and achieve personal growth.\\n2. **Relationships and love**: For some, the meaning of life is to form deep connections, build meaningful relationships, and experience love and compassion.\\n3. **Personal growth and learning**: Others see the meaning of life as a journey of self-discovery, learning, and self-improvement.\\n\\nIn conclusion, the meaning of life is a complex, multifaceted question with various answers depending on individual perspectives, cultural contexts, and philosophical traditions. Ultimately, each person must find their own meaning and purpose in life, and that meaning may evolve and change over time.\\n\\nWhat do you think is the meaning of life?\", additional_kwargs={}, response_metadata={'token_usage': {'completion_tokens': 590, 'prompt_tokens': 42, 'total_tokens': 632, 'completion_time': 0.900958917, 'prompt_time': 0.006479277, 'queue_time': 0.050974963, 'total_time': 0.907438194}, 'model_name': 'llama-3.1-8b-instant', 'system_fingerprint': 'fp_510c177af0', 'service_tier': 'on_demand', 'finish_reason': 'stop', 'logprobs': None}, id='run--5cd9536d-029c-4f76-9900-23dbb67dc9c9-0', usage_metadata={'input_tokens': 42, 'output_tokens': 590, 'total_tokens': 632})"
      ]
     },
     "execution_count": 21,
     "metadata": {},
     "output_type": "execute_result"
    }
   ],
   "source": [
    "response4 = llm2.invoke(\"what is the meaning of life?\")\n",
    "response4"
   ]
  },
  {
   "cell_type": "code",
   "execution_count": 25,
   "id": "2a738c6d",
   "metadata": {},
   "outputs": [
    {
     "data": {
      "text/plain": [
       "\"The question of the meaning of life is one of the most profound and complex questions in human history. It has been debated by philosophers, theologians, scientists, and thinkers across various cultures and disciplines.\\n\\nThere is no one definitive answer to this question, as the meaning of life can vary greatly depending on individual perspectives, experiences, and worldviews. However, here are some possible insights:\\n\\n1. **Biological perspective**: From a biological standpoint, the meaning of life is to survive and reproduce. This is a fundamental drive that has evolved in living organisms to ensure their continuation and propagation.\\n2. **Philosophical perspective**: Philosophers have proposed various answers to the meaning of life, including:\\n\\t* **Hedonism**: The pursuit of pleasure and happiness.\\n\\t* **Eudaimonia**: The pursuit of a life of virtue, happiness, and fulfillment.\\n\\t* **Existentialism**: The creation of one's own meaning in life, as there is no inherent or objective meaning.\\n\\t* **Absurdism**: The recognition of the absurdity and uncertainty of life, and the need to find meaning in spite of it.\\n3. **Spiritual or religious perspective**: Many spiritual and religious traditions propose that the meaning of life is to:\\n\\t* **Follow a higher power or divine will**: To fulfill a purpose or duty given by a higher power or divine being.\\n\\t* **Seek enlightenment or spiritual growth**: To attain a higher state of consciousness or spiritual awareness.\\n\\t* **Serve others**: To help others and contribute to the greater good.\\n4. **Personal perspective**: Ultimately, the meaning of life is a deeply personal and subjective question. Each individual may find their own meaning in life through:\\n\\t* **Pursuing passions and interests**: Engaging in activities that bring joy and fulfillment.\\n\\t* **Building relationships**: Nurturing connections with family, friends, and community.\\n\\t* **Creating something meaningful**: Leaving a lasting impact or legacy.\\n\\t* **Learning and growing**: Continuously learning, developing, and self-improving.\\n\\nIn conclusion, the meaning of life is a complex and multifaceted question that has been debated and explored by various thinkers and disciplines. While there may not be a single definitive answer, it is clear that the meaning of life is deeply personal and can be found in the experiences, relationships, and pursuits that bring fulfillment and purpose to an individual's life.\""
      ]
     },
     "execution_count": 25,
     "metadata": {},
     "output_type": "execute_result"
    }
   ],
   "source": [
    "from langchain_core.output_parsers import StrOutputParser\n",
    "output_parser = StrOutputParser()\n",
    "chain = llm2 | output_parser\n",
    "response5 = chain.invoke(\"What is the meaning of life?\")\n",
    "response5"
   ]
  },
  {
   "cell_type": "code",
   "execution_count": null,
   "id": "31ed298f",
   "metadata": {},
   "outputs": [],
   "source": []
  },
  {
   "cell_type": "code",
   "execution_count": null,
   "id": "8457b8a8",
   "metadata": {},
   "outputs": [],
   "source": []
  }
 ],
 "metadata": {
  "kernelspec": {
   "display_name": "rcc_venv",
   "language": "python",
   "name": "python3"
  },
  "language_info": {
   "codemirror_mode": {
    "name": "ipython",
    "version": 3
   },
   "file_extension": ".py",
   "mimetype": "text/x-python",
   "name": "python",
   "nbconvert_exporter": "python",
   "pygments_lexer": "ipython3",
   "version": "3.12.7"
  }
 },
 "nbformat": 4,
 "nbformat_minor": 5
}
