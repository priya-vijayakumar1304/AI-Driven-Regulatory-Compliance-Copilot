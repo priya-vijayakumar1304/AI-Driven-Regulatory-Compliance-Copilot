{
 "cells": [
  {
   "cell_type": "code",
   "execution_count": 27,
   "id": "54a36777",
   "metadata": {},
   "outputs": [
    {
     "data": {
      "text/plain": [
       "True"
      ]
     },
     "execution_count": 27,
     "metadata": {},
     "output_type": "execute_result"
    }
   ],
   "source": [
    "import os\n",
    "from dotenv import load_dotenv\n",
    "load_dotenv()"
   ]
  },
  {
   "cell_type": "code",
   "execution_count": 28,
   "id": "6b96047d",
   "metadata": {},
   "outputs": [],
   "source": [
    "os.environ['LANGCHAIN_API_KEY'] = os.getenv('LANGCHAIN_API_KEY')\n",
    "os.environ['GROQ_API_KEY'] = os.getenv('GROQ_API_KEY')\n",
    "os.environ['LANGCHAIN_PROJECT'] = os.getenv('LANGCHAIN_PROJECT')"
   ]
  },
  {
   "cell_type": "code",
   "execution_count": 9,
   "id": "b21d26e2",
   "metadata": {},
   "outputs": [
    {
     "name": "stdout",
     "output_type": "stream",
     "text": [
      "\u001b[1mOllama\u001b[0m\n",
      "Params: {'model': 'deepseek-r1:8b', 'format': None, 'options': {'mirostat': None, 'mirostat_eta': None, 'mirostat_tau': None, 'num_ctx': None, 'num_gpu': None, 'num_thread': None, 'num_predict': None, 'repeat_last_n': None, 'repeat_penalty': None, 'temperature': None, 'stop': None, 'tfs_z': None, 'top_k': None, 'top_p': None}, 'system': None, 'template': None, 'keep_alive': None, 'raw': None}\n"
     ]
    }
   ],
   "source": [
    "from langchain_community.llms import Ollama\n",
    "llm = Ollama(model=\"deepseek-r1:8b\")\n",
    "print(llm)"
   ]
  },
  {
   "cell_type": "code",
   "execution_count": 13,
   "id": "6543db42",
   "metadata": {},
   "outputs": [
    {
     "data": {
      "text/plain": [
       "\"<think>\\nHmm, the user just said “hello, how are you?” in English. This seems like a casual greeting, likely from someone testing my capabilities or starting a conversation for fun.\\n\\nOkay, first things first - they're using polite English phrasing but keeping it very brief, which suggests either they're new to chatting with AI assistants or they prefer minimal interaction before diving into actual questions. The tone feels neutral-positive though.\\n\\nI should keep my response warm but concise since there's no specific context given. Maybe add a tiny bit of personality while staying professional - that emoji might help make it friendlier without overdoing it. \\n\\nThe user didn't provide any background or ask anything substantial, so I'll position this as an invitation to continue the conversation rather than just answering literally. The “I'm here to help” part gives them permission to steer things wherever they want.\\n\\nThey probably don't need deep analysis right now - keeping it simple and friendly is best until we know more about what they actually need or want to discuss.\\n</think>\\nHello! I’m doing great, thanks for asking 😊  \\nHow are you? I hope everything’s going well with you today. What can I help you with?\""
      ]
     },
     "execution_count": 13,
     "metadata": {},
     "output_type": "execute_result"
    }
   ],
   "source": [
    "response = llm.invoke(\"hello, how are you?\")\n",
    "response"
   ]
  },
  {
   "cell_type": "code",
   "execution_count": 29,
   "id": "2c2e674b",
   "metadata": {},
   "outputs": [],
   "source": [
    "from langchain_groq import ChatGroq\n",
    "llm2 = ChatGroq(model=\"llama-3.1-8b-instant\")"
   ]
  },
  {
   "cell_type": "code",
   "execution_count": null,
   "id": "a4a3f110",
   "metadata": {},
   "outputs": [
    {
     "name": "stdout",
     "output_type": "stream",
     "text": [
      "content='I can provide you with the current stock price of Apple, but I\\'m a large language model, I don\\'t have real-time access to current market data. However, I can suggest some ways for you to find the current stock price.\\n\\n1. **Visit Apple\\'s investor website**: You can visit Apple\\'s investor website ([investor.apple.com](http://investor.apple.com)) and look for the stock price under the \"Stock Information\" section.\\n2. **Use a financial website or app**: Websites like Yahoo Finance, Google Finance, or Bloomberg provide real-time stock prices. You can search for \"AAPL\" (Apple\\'s stock symbol) to get the current stock price.\\n3. **Check the NASDAQ website**: Since Apple is listed on the NASDAQ stock exchange, you can also check the NASDAQ website ([www.nasdaq.com](http://www.nasdaq.com)) for the current stock price.\\n4. **Use a financial news website or app**: Websites like CNBC, CNN Money, or MarketWatch also provide real-time stock prices.\\n\\nPlease note that stock prices can fluctuate rapidly, so the price may change quickly. These methods will give you the most up-to-date information available.\\n\\nIf you want an approximate answer to your question, I can try to provide the historical stock price of Apple.' additional_kwargs={} response_metadata={'token_usage': {'completion_tokens': 268, 'prompt_tokens': 45, 'total_tokens': 313, 'completion_time': 0.460083057, 'prompt_time': 0.009661656, 'queue_time': 0.051522783, 'total_time': 0.469744713}, 'model_name': 'llama-3.1-8b-instant', 'system_fingerprint': 'fp_510c177af0', 'service_tier': 'on_demand', 'finish_reason': 'stop', 'logprobs': None} id='run--0133183d-58b5-4d60-8041-b13c09bfbe57-0' usage_metadata={'input_tokens': 45, 'output_tokens': 268, 'total_tokens': 313}\n"
     ]
    }
   ],
   "source": [
    "response2 = llm2.invoke(\"can you tell me the current stock price of apple\")\n",
    "print(response2)\n",
    "#better than ollama - so quick\n",
    "#https://console.groq.com/docs/models\n"
   ]
  },
  {
   "cell_type": "code",
   "execution_count": null,
   "id": "ecd7491e",
   "metadata": {},
   "outputs": [
    {
     "data": {
      "text/plain": [
       "AIMessage(content='The question “What is the meaning of life?” has been asked by thinkers, poets, scientists, and everyday people for millennia, and there isn’t a single answer that satisfies everyone. Instead, the meaning of life tends to emerge from the lenses through which we look at the world. Below are some of the most common ways people have approached the question, along with a few ideas for how you might explore it for yourself.\\n\\n---\\n\\n## 1. **Philosophical Perspectives**\\n\\n| School of Thought | Core Idea about Meaning | Example Quote |\\n|-------------------|------------------------|----------------|\\n| **Existentialism** (e.g., Sartre, Camus) | Life has no inherent purpose; we create our own meaning through choices and actions. | “Man is condemned to be free.” – Jean‑Paul Sartre |\\n| **Absurdism** (Camus) | The universe is indifferent, but we can find meaning by embracing the absurd and living passionately. | “The only way to deal with an unfree world is to become so absolutely free that your very existence is an act of rebellion.” – Albert Camus |\\n| **Utilitarianism** (Bentham, Mill) | Meaning comes from maximizing happiness or reducing suffering for the greatest number. | “The greatest happiness of the greatest number is the foundation of morals.” – Jeremy Bentham |\\n| **Stoicism** (Marcus Aurelius, Epictetus) | Meaning is found in living in accordance with virtue and accepting what we cannot control. | “The happiness of your life depends upon the quality of your thoughts.” – Marcus Aurelius |\\n| **Nihilism** (Nietzsche, often mis‑interpreted) | Traditional values and meanings are baseless; one must confront this void. | “When you look into the abyss, the abyss looks back at you.” – Friedrich Nietzsche (often paraphrased) |\\n| **Humanism** | Meaning is derived from human relationships, creativity, and the pursuit of knowledge. | “The purpose of life is to contribute in some way to making things better for others.” – Common humanist sentiment |\\n\\n**Takeaway:** Philosophical schools give you frameworks for thinking about meaning. You can adopt one, blend several, or reject them all and craft your own.\\n\\n---\\n\\n## 2. **Religious & Spiritual Traditions**\\n\\n| Tradition | Typical View of Life’s Purpose | Key Practices |\\n|-----------|-------------------------------|----------------|\\n| **Christianity** | To love God and neighbor, follow Jesus, and ultimately share in eternal life. | Prayer, worship, service, sacraments |\\n| **Islam** | To worship Allah, live according to the Qur’an, and prepare for the afterlife. | Five Pillars, daily prayers, charity |\\n| **Buddhism** | To end suffering (dukkha) by attaining enlightenment (nirvana). | Meditation, ethical conduct, mindfulness |\\n| **Hinduism** | To fulfill dharma (righteous duty), pursue artha (prosperity), kama (pleasure), and ultimately achieve moksha (liberation). | Yoga, rituals, devotion (bhakti) |\\n| **Secular Spiritualities** (e.g., Taoism, Indigenous worldviews) | Often emphasize harmony with nature, community, and the flow of existence. | Rituals, storytelling, reverence for the natural world |\\n\\n**Takeaway:** Many religions propose a transcendent purpose—be it union with the divine, moral service, or liberation from suffering. Even if you’re not religious, their practices (meditation, gratitude, community service) can be tools for finding personal meaning.\\n\\n---\\n\\n## 3. **Scientific & Evolutionary Views**\\n\\n1. **Biological Imperative** – From an evolutionary standpoint, the “purpose” of any organism is to survive, reproduce, and pass on its genes. That’s the *mechanistic* answer.\\n2. **Cosmic Perspective** – Astronomers like Carl Sagan remind us that we’re “made of star‑stuff,” suggesting a poetic meaning: we are a way for the universe to become aware of itself.\\n3. **Psychology & Well‑Being** – Research (e.g., positive psychology) shows that meaning correlates with purpose‑driven activities: relationships, mastery, contribution, and a sense of belonging. Viktor Frankl’s *Man’s Search for Meaning* blends existential philosophy with clinical observation: “Even in the most terrible circumstances, we can find meaning by choosing our attitude.”\\n\\n**Takeaway:** Science can’t dictate a “final” meaning, but it offers clues about what humans tend to find fulfilling: connection, growth, and contributing to something larger than oneself.\\n\\n---\\n\\n## 4. **Personal & Narrative Approaches**\\n\\nMany contemporary thinkers argue that meaning is **narrative**—the story we tell about our lives.\\n\\n- **Identify Core Values:** What principles feel non‑negotiable to you? (e.g., honesty, compassion, curiosity.)\\n- **Set Purposeful Goals:** Align actions with those values. A goal to “mentor younger colleagues” may reflect a value of generosity.\\n- **Create a Life Story:** Reflect on past experiences that felt *significant* and ask how they fit into a larger arc. This can turn random events into a coherent narrative.\\n\\n**Exercise:** Write a brief “future autobiography” (5–10 years from now). Describe a day in your life that feels meaningful. Then work backward: what steps will you need to take to get there?\\n\\n---\\n\\n## 5. **Practical Steps to Explore Your Own Meaning**\\n\\n1. **Reflect Daily** – Keep a journal. Note moments when you felt *alive*, *engaged*, or *at peace*. Look for patterns.\\n2. **Experiment** – Try new activities (volunteering, learning a skill, traveling). Novel experiences often reveal hidden passions.\\n3. **Connect** – Deep relationships are repeatedly shown to be the strongest predictor of life satisfaction.\\n4. **Serve** – Helping others can provide an immediate sense of purpose, even if it’s a small act.\\n5. **Seek Community** – Join groups (book clubs, sports teams, faith communities) where shared values reinforce meaning.\\n6. **Read Widely** – Philosophical texts, memoirs, poetry, and scientific literature all offer different lenses.\\n7. **Mindfulness & Meditation** – These practices quiet the mental chatter, allowing you to hear what truly matters to you.\\n\\n---\\n\\n## 6. **A Quick “Toolkit” for Meaning‑Seeking**\\n\\n| Tool | How It Helps | Example |\\n|------|--------------|---------|\\n| **Values Clarification Worksheet** | Pinpoints what you truly care about. | Rank “creativity, security, adventure, community.” |\\n| **Ikigai Diagram** (Japanese concept) | Finds the sweet spot where what you love, what you’re good at, what the world needs, and what you can be paid for intersect. | A teacher who loves storytelling, is skilled at explaining, meets a community need, and earns a living. |\\n| **Legacy Letter** | Imagine writing a letter to future generations; what would you want them to know about you? | “I hope you always remember to listen more than you speak.” |\\n| **Gratitude List** | Highlights what already gives life meaning. | “I’m grateful for my morning coffee, my dog’s wagging tail, the sunrise.” |\\n| **“Three‑Year Vision Board”** | Visualizes a purpose‑filled future. | Images of hiking, publishing a book, teaching a workshop. |\\n\\n---\\n\\n## 7. **Bottom Line**\\n\\n- **There is no universal answer** that applies to everyone, but there are many *paths* you can explore.\\n- Meaning often **emerges** from a combination of: personal values, relationships, contributions to something larger, and the narratives we construct.\\n- You can **borrow** frameworks from philosophy, religion, science, or art, but ultimately you decide which resonate and how to live them out.\\n\\n**A simple starter question for you:** *When you look back on today (or tomorrow), what would make you feel that the day was worthwhile?*  \\n\\nAnswering that, even in small increments, gradually builds a life that feels meaningful to *you*.\\n\\nIf you’d like to dive deeper into any of the perspectives above—perhaps an exercise in creating an Ikigai diagram, a reading list, or a meditation routine—just let me know!', additional_kwargs={'reasoning_content': 'The user asks a philosophical question: \"what is the meaning of life?\" We need to respond. According to policy, we can discuss philosophical topics. Provide thoughtful answer, possibly multiple perspectives: religious, philosophical, scientific, personal meaning. Encourage reflection. No disallowed content. Provide balanced view.'}, response_metadata={'token_usage': {'completion_tokens': 1806, 'prompt_tokens': 78, 'total_tokens': 1884, 'completion_time': 3.593807531, 'prompt_time': 0.002773601, 'queue_time': 0.048625839, 'total_time': 3.596581132}, 'model_name': 'openai/gpt-oss-120b', 'system_fingerprint': 'fp_ed9190d8b7', 'service_tier': 'on_demand', 'finish_reason': 'stop', 'logprobs': None}, id='run--497c6809-4f96-4375-ae3a-016b173f8f2d-0', usage_metadata={'input_tokens': 78, 'output_tokens': 1806, 'total_tokens': 1884})"
      ]
     },
     "execution_count": 19,
     "metadata": {},
     "output_type": "execute_result"
    }
   ],
   "source": [
    "llm3 = ChatGroq(model=\"openai/gpt-oss-120b\")\n",
    "response3 = llm3.invoke(\"what is the meaning of life?\")\n",
    "response3"
   ]
  },
  {
   "cell_type": "code",
   "execution_count": 20,
   "id": "a77f55ad",
   "metadata": {},
   "outputs": [
    {
     "data": {
      "text/plain": [
       "langchain_core.messages.ai.AIMessage"
      ]
     },
     "execution_count": 20,
     "metadata": {},
     "output_type": "execute_result"
    }
   ],
   "source": [
    "type(response3)"
   ]
  },
  {
   "cell_type": "code",
   "execution_count": null,
   "id": "75e138bb",
   "metadata": {},
   "outputs": [
    {
     "data": {
      "text/plain": [
       "AIMessage(content=\"The question of the meaning of life is one of the most profound and enduring questions in human history, with various perspectives and interpretations across cultures, philosophies, and individuals. Here's a comprehensive overview of different approaches:\\n\\n**Philosophical perspectives:**\\n\\n1. **Existentialism**: This philosophy, led by thinkers like Jean-Paul Sartre and Martin Heidegger, suggests that life has no inherent meaning, and it's up to each individual to create their own purpose.\\n2. **Hedonism**: This perspective emphasizes the pursuit of pleasure, happiness, and fulfillment as the ultimate goal of life.\\n3. **Stoicism**: Stoicism, inspired by ancient Greek and Roman philosophers like Epictetus and Seneca, focuses on living in accordance with reason, virtue, and nature.\\n4. **Utilitarianism**: This philosophy, developed by Jeremy Bentham and John Stuart Mill, suggests that the meaning of life is to maximize overall happiness and well-being.\\n\\n**Religious perspectives:**\\n\\n1. **Christianity**: For Christians, the meaning of life is to love and serve God, follow Jesus' teachings, and pursue eternal salvation.\\n2. **Buddhism**: In Buddhism, the meaning of life is to attain enlightenment, escape suffering, and achieve nirvana through the Eightfold Path and the Four Noble Truths.\\n3. **Islam**: For Muslims, the meaning of life is to submit to Allah's will, follow the Five Pillars, and strive for spiritual growth and paradise in the afterlife.\\n4. **Hinduism**: Hinduism offers various perspectives, but some key concepts include the pursuit of dharma (duty), karma (action and consequence), and moksha (liberation from the cycle of rebirth).\\n\\n**Scientific perspectives:**\\n\\n1. **Evolutionary theory**: From a biological perspective, the meaning of life is to survive, reproduce, and pass on genes to future generations.\\n2. **Cosmology**: Some theories, like the multiverse hypothesis, suggest that life's purpose is to exist within a vast, ever-expanding universe.\\n\\n**Personal perspectives:**\\n\\n1. **Self-actualization**: Many people believe that the meaning of life is to fulfill one's potential, pursue passions, and achieve personal growth.\\n2. **Relationships and love**: For some, the meaning of life is to form deep connections, build meaningful relationships, and experience love and compassion.\\n3. **Personal growth and learning**: Others see the meaning of life as a journey of self-discovery, learning, and self-improvement.\\n\\nIn conclusion, the meaning of life is a complex, multifaceted question with various answers depending on individual perspectives, cultural contexts, and philosophical traditions. Ultimately, each person must find their own meaning and purpose in life, and that meaning may evolve and change over time.\\n\\nWhat do you think is the meaning of life?\", additional_kwargs={}, response_metadata={'token_usage': {'completion_tokens': 590, 'prompt_tokens': 42, 'total_tokens': 632, 'completion_time': 0.900958917, 'prompt_time': 0.006479277, 'queue_time': 0.050974963, 'total_time': 0.907438194}, 'model_name': 'llama-3.1-8b-instant', 'system_fingerprint': 'fp_510c177af0', 'service_tier': 'on_demand', 'finish_reason': 'stop', 'logprobs': None}, id='run--5cd9536d-029c-4f76-9900-23dbb67dc9c9-0', usage_metadata={'input_tokens': 42, 'output_tokens': 590, 'total_tokens': 632})"
      ]
     },
     "execution_count": 21,
     "metadata": {},
     "output_type": "execute_result"
    }
   ],
   "source": [
    "response4 = llm2.invoke(\"what is the meaning of life?\")\n",
    "response4"
   ]
  },
  {
   "cell_type": "code",
   "execution_count": 25,
   "id": "2a738c6d",
   "metadata": {},
   "outputs": [
    {
     "data": {
      "text/plain": [
       "\"The question of the meaning of life is one of the most profound and complex questions in human history. It has been debated by philosophers, theologians, scientists, and thinkers across various cultures and disciplines.\\n\\nThere is no one definitive answer to this question, as the meaning of life can vary greatly depending on individual perspectives, experiences, and worldviews. However, here are some possible insights:\\n\\n1. **Biological perspective**: From a biological standpoint, the meaning of life is to survive and reproduce. This is a fundamental drive that has evolved in living organisms to ensure their continuation and propagation.\\n2. **Philosophical perspective**: Philosophers have proposed various answers to the meaning of life, including:\\n\\t* **Hedonism**: The pursuit of pleasure and happiness.\\n\\t* **Eudaimonia**: The pursuit of a life of virtue, happiness, and fulfillment.\\n\\t* **Existentialism**: The creation of one's own meaning in life, as there is no inherent or objective meaning.\\n\\t* **Absurdism**: The recognition of the absurdity and uncertainty of life, and the need to find meaning in spite of it.\\n3. **Spiritual or religious perspective**: Many spiritual and religious traditions propose that the meaning of life is to:\\n\\t* **Follow a higher power or divine will**: To fulfill a purpose or duty given by a higher power or divine being.\\n\\t* **Seek enlightenment or spiritual growth**: To attain a higher state of consciousness or spiritual awareness.\\n\\t* **Serve others**: To help others and contribute to the greater good.\\n4. **Personal perspective**: Ultimately, the meaning of life is a deeply personal and subjective question. Each individual may find their own meaning in life through:\\n\\t* **Pursuing passions and interests**: Engaging in activities that bring joy and fulfillment.\\n\\t* **Building relationships**: Nurturing connections with family, friends, and community.\\n\\t* **Creating something meaningful**: Leaving a lasting impact or legacy.\\n\\t* **Learning and growing**: Continuously learning, developing, and self-improving.\\n\\nIn conclusion, the meaning of life is a complex and multifaceted question that has been debated and explored by various thinkers and disciplines. While there may not be a single definitive answer, it is clear that the meaning of life is deeply personal and can be found in the experiences, relationships, and pursuits that bring fulfillment and purpose to an individual's life.\""
      ]
     },
     "execution_count": 25,
     "metadata": {},
     "output_type": "execute_result"
    }
   ],
   "source": [
    "from langchain_core.output_parsers import StrOutputParser\n",
    "output_parser = StrOutputParser()\n",
    "chain = llm2 | output_parser\n",
    "response5 = chain.invoke(\"What is the meaning of life?\")\n",
    "response5"
   ]
  },
  {
   "cell_type": "code",
   "execution_count": 26,
   "id": "31ed298f",
   "metadata": {},
   "outputs": [
    {
     "name": "stdout",
     "output_type": "stream",
     "text": [
      "The question of the meaning of life is one of the most profound and complex questions in human history. It has been debated by philosophers, theologians, scientists, and thinkers across various cultures and disciplines.\n",
      "\n",
      "There is no one definitive answer to this question, as the meaning of life can vary greatly depending on individual perspectives, experiences, and worldviews. However, here are some possible insights:\n",
      "\n",
      "1. **Biological perspective**: From a biological standpoint, the meaning of life is to survive and reproduce. This is a fundamental drive that has evolved in living organisms to ensure their continuation and propagation.\n",
      "2. **Philosophical perspective**: Philosophers have proposed various answers to the meaning of life, including:\n",
      "\t* **Hedonism**: The pursuit of pleasure and happiness.\n",
      "\t* **Eudaimonia**: The pursuit of a life of virtue, happiness, and fulfillment.\n",
      "\t* **Existentialism**: The creation of one's own meaning in life, as there is no inherent or objective meaning.\n",
      "\t* **Absurdism**: The recognition of the absurdity and uncertainty of life, and the need to find meaning in spite of it.\n",
      "3. **Spiritual or religious perspective**: Many spiritual and religious traditions propose that the meaning of life is to:\n",
      "\t* **Follow a higher power or divine will**: To fulfill a purpose or duty given by a higher power or divine being.\n",
      "\t* **Seek enlightenment or spiritual growth**: To attain a higher state of consciousness or spiritual awareness.\n",
      "\t* **Serve others**: To help others and contribute to the greater good.\n",
      "4. **Personal perspective**: Ultimately, the meaning of life is a deeply personal and subjective question. Each individual may find their own meaning in life through:\n",
      "\t* **Pursuing passions and interests**: Engaging in activities that bring joy and fulfillment.\n",
      "\t* **Building relationships**: Nurturing connections with family, friends, and community.\n",
      "\t* **Creating something meaningful**: Leaving a lasting impact or legacy.\n",
      "\t* **Learning and growing**: Continuously learning, developing, and self-improving.\n",
      "\n",
      "In conclusion, the meaning of life is a complex and multifaceted question that has been debated and explored by various thinkers and disciplines. While there may not be a single definitive answer, it is clear that the meaning of life is deeply personal and can be found in the experiences, relationships, and pursuits that bring fulfillment and purpose to an individual's life.\n"
     ]
    }
   ],
   "source": [
    "print(response5)"
   ]
  },
  {
   "cell_type": "code",
   "execution_count": 27,
   "id": "8457b8a8",
   "metadata": {},
   "outputs": [
    {
     "data": {
      "text/plain": [
       "str"
      ]
     },
     "execution_count": 27,
     "metadata": {},
     "output_type": "execute_result"
    }
   ],
   "source": [
    "type(response5)"
   ]
  },
  {
   "cell_type": "code",
   "execution_count": 11,
   "id": "5e404932",
   "metadata": {},
   "outputs": [],
   "source": [
    "from langchain.document_loaders import PyMuPDFLoader\n",
    "\n",
    "# Load DPDP regulation\n",
    "dpdp_loader = PyMuPDFLoader(\"../data/india_regulatory_policies/01_DPDP_Act_2023.pdf\")\n",
    "dpdp_docs = dpdp_loader.load()\n",
    "\n",
    "it_act_loader= PyMuPDFLoader(\"../data/india_regulatory_policies/02_Information_Technology_Act_2000.pdf\")\n",
    "it_act_docs = it_act_loader.load()\n",
    "\n",
    "companies_act_loader = PyMuPDFLoader(\"../data/india_regulatory_policies/05_Companies_Act_2013.pdf\")\n",
    "companies_act_docs = companies_act_loader.load()"
   ]
  },
  {
   "cell_type": "code",
   "execution_count": 12,
   "id": "86529e98",
   "metadata": {},
   "outputs": [],
   "source": [
    "from langchain_text_splitters import RecursiveCharacterTextSplitter\n",
    "\n",
    "#splitting the data\n",
    "text_splitter = RecursiveCharacterTextSplitter(chunk_size=1000, chunk_overlap=200)\n",
    "dpdp_docs_split = text_splitter.split_documents(dpdp_docs)\n",
    "it_act_docs_split = text_splitter.split_documents(it_act_docs)\n",
    "companies_act_docs_split = text_splitter.split_documents(companies_act_docs)\n"
   ]
  },
  {
   "cell_type": "code",
   "execution_count": 19,
   "id": "85ab1281",
   "metadata": {},
   "outputs": [
    {
     "name": "stderr",
     "output_type": "stream",
     "text": [
      "c:\\Users\\PRIYA\\OneDrive\\Desktop\\Projects\\AI-Driven-Regulatory-Compliance-Copilot\\rcc_venv\\Lib\\site-packages\\tqdm\\auto.py:21: TqdmWarning: IProgress not found. Please update jupyter and ipywidgets. See https://ipywidgets.readthedocs.io/en/stable/user_install.html\n",
      "  from .autonotebook import tqdm as notebook_tqdm\n"
     ]
    }
   ],
   "source": [
    "from langchain_huggingface.embeddings import HuggingFaceEmbeddings\n",
    "\n",
    "#embeddings the data\n",
    "embeddings = HuggingFaceEmbeddings(model_name=\"sentence-transformers/all-mpnet-base-v2\")\n"
   ]
  },
  {
   "cell_type": "code",
   "execution_count": 20,
   "id": "f4813aef",
   "metadata": {},
   "outputs": [
    {
     "data": {
      "text/plain": [
       "['a48438de-2197-4b99-a0d4-c1e0d07c1ffa',\n",
       " '64792a10-3ff5-45c0-9d26-6dd310ba1aef',\n",
       " '435667e2-efeb-485c-b932-15cfdaff5257']"
      ]
     },
     "execution_count": 20,
     "metadata": {},
     "output_type": "execute_result"
    }
   ],
   "source": [
    "from langchain_chroma import Chroma\n",
    "\n",
    "persist_directory = '../data/chroma_db'\n",
    "\n",
    "#storing the data in vector db\n",
    "vector_db = Chroma(collection_name=\"India_Regulatory_Policies\", embedding_function=embeddings, persist_directory=persist_directory)\n",
    "vector_db.add_documents(dpdp_docs_split + it_act_docs_split + companies_act_docs_split) "
   ]
  },
  {
   "cell_type": "code",
   "execution_count": null,
   "id": "7dffccab",
   "metadata": {},
   "outputs": [],
   "source": [
    "from langchain.prompts import PromptTemplate\n",
    "\n",
    "policy_compliance_prompt = PromptTemplate(\n",
    "    input_variables=[\"company_policy\", \"regulations\"],\n",
    "    template=\"\"\"\n",
    "You are a compliance checker agent. Your task is to check if the company policy complies with the provided regulations.\n",
    "\n",
    "Company Policy:\n",
    "{company_policy}\n",
    "\n",
    "Relevant Regulatory Context:\n",
    "{regulations}\n",
    "\n",
    "Return your answer strictly in JSON format:\n",
    "{{\n",
    "  \"compliance_status\": \"Compliant\" or \"Non-Compliant\",\n",
    "  \"violations\": [\n",
    "    {{\n",
    "      \"policy_text\": \"Exact problematic line\",\n",
    "      \"law_reference\": \"DPDP Act article number\",\n",
    "      \"explanation\": \"Why it violates regulation\",\n",
    "      \"suggested_fix\": \"Suggested updated policy\"\n",
    "    }}\n",
    "  ]\n",
    "}}\n",
    "\"\"\"\n",
    ")"
   ]
  },
  {
   "cell_type": "code",
   "execution_count": null,
   "id": "70177893",
   "metadata": {},
   "outputs": [
    {
     "name": "stdout",
     "output_type": "stream",
     "text": [
      "Extracted text from PDF:\n"
     ]
    }
   ],
   "source": [
    "from langchain.chains import LLMChain\n",
    "import pdfplumber\n",
    "\n",
    "HR_POLICY_PATH = \"../data/sample_company_policies/nalco_hr_policy.pdf\"\n",
    "\n",
    "# Read HR Policy\n",
    "with pdfplumber.open(HR_POLICY_PATH) as pdf:\n",
    "    hr_policy_text = \"\"\n",
    "    for page in pdf.pages:\n",
    "        hr_policy_text += page.extract_text() + \"\\n\"\n",
    "\n",
    "print(\"Extracted text from PDF:\")\n",
    "\n",
    "#splitting into chunk of 500 words\n",
    "def chunk_text(text, chunk_size=500):\n",
    "    words = text.split()\n",
    "    chunks = []\n",
    "    for i in range(0, len(words), chunk_size):\n",
    "        chunks.append(\" \".join(words[i:i+chunk_size]))\n",
    "    return chunks\n",
    "\n",
    "hr_policy_chunks = chunk_text(hr_policy_text)\n"
   ]
  },
  {
   "cell_type": "code",
   "execution_count": 33,
   "id": "2eb8a56e",
   "metadata": {},
   "outputs": [
    {
     "data": {
      "text/plain": [
       "'\\'\\nrelated_regulations = retriever.get_relevant_documents(hr_policy_text)\\nregulation_context = \"\\n\".join([doc.page_content for doc in related_regulations])\\n'"
      ]
     },
     "execution_count": 33,
     "metadata": {},
     "output_type": "execute_result"
    }
   ],
   "source": [
    "#Retrieve top regulatory chunks\n",
    "retriever = vector_db.as_retriever(search_kwargs={\"k\": 2})\n",
    "''''\n",
    "related_regulations = retriever.get_relevant_documents(hr_policy_text)\n",
    "regulation_context = \"\\n\".join([doc.page_content for doc in related_regulations])\n",
    "'''"
   ]
  },
  {
   "cell_type": "code",
   "execution_count": 34,
   "id": "67773c6c",
   "metadata": {},
   "outputs": [],
   "source": [
    "#Create Chain\n",
    "compliance_chain = LLMChain(llm=llm2, prompt=policy_compliance_prompt)"
   ]
  },
  {
   "cell_type": "code",
   "execution_count": 35,
   "id": "7f736903",
   "metadata": {},
   "outputs": [
    {
     "name": "stdout",
     "output_type": "stream",
     "text": [
      "{\n",
      "  \"compliance_status\": \"Non-Compliant\",\n",
      "  \"violations\": [\n",
      "    {\n",
      "      \"policy_text\": \"To man executives posts in the company with competent personnel having growth potential and to maximise their capabilities through opportunities available for advancement.\",\n",
      "      \"law_reference\": \"The Digital Personal Data Protection Act, 2023 (India), Section 13 (1) (a)\",\n",
      "      \"explanation\": \"The policy does not mention the data protection measures to be taken during the recruitment and promotion process. This violates the requirement to implement measures to protect personal data during the hiring process.\",\n",
      "      \"suggested_fix\": \"To man executives posts in the company with competent personnel having growth potential and to maximise their capabilities through opportunities available for advancement, while ensuring that all personal data collected during the recruitment process is handled in accordance with the Digital Personal Data Protection Act, 2023.\"\n",
      "    },\n",
      "    {\n",
      "      \"policy_text\": \"To provide input for the development of executives linked to their levels of performance and strengths their specific and requirements.\",\n",
      "      \"law_reference\": \"The Companies Act, 2013 (India), Section 134 (1) (b)\",\n",
      "      \"explanation\": \"The policy does not mention the board's responsibility to report on the company's corporate governance practices, including the recruitment and promotion process. This violates the requirement to provide a report on corporate governance practices.\",\n",
      "      \"suggested_fix\": \"To provide input for the development of executives linked to their levels of performance and strengths their specific and requirements, and to report on the company's corporate governance practices, including the recruitment and promotion process, in accordance with the Companies Act, 2013.\"\n",
      "    }\n",
      "  ]\n",
      "}\n",
      "After reviewing the Company Policy and the relevant regulatory context, I have identified the following compliance issues:\n",
      "\n",
      "```json\n",
      "{\n",
      "  \"compliance_status\": \"Non-Compliant\",\n",
      "  \"violations\": [\n",
      "    {\n",
      "      \"policy_text\": \"1.1.5.0 SOURCES OF RECRUITMENT 1.1.5.1 Sources of recruitment shall be decided by the Chief Executive generally from the following: (h) Tenure based appointments initially for five years and with a provision to extend it for further period up to five years as per the approved Schemes.\",\n",
      "      \"law_reference\": \"Section 149(2) of the Companies Act, 2013\",\n",
      "      \"explanation\": \"The policy allows for tenure-based appointments for up to 10 years, which exceeds the maximum tenure of 5 years specified in the Companies Act, 2013.\",\n",
      "      \"suggested_fix\": \"Replace (h) with: (h) Tenure based appointments initially for five years.\"\n",
      "    },\n",
      "    {\n",
      "      \"policy_text\": \"1.1.5.3 The length of experience and age limit for recruitment to various grades (external candidates) shall be as specified at Annexure-A.\",\n",
      "      \"law_reference\": \"Section 23 of the Digital Personal Data Protection Act, 2023\",\n",
      "      \"explanation\": \"The policy does not provide a clear and transparent process for determining the length of experience and age limit for external candidates, which is required under the Digital Personal Data Protection Act, 2023.\",\n",
      "      \"suggested_fix\": \"Replace 1.1.5.3 with: 1.1.5.3 The length of experience and age limit for recruitment to various grades (external candidates) shall be clearly specified in the policy and communicated to all stakeholders.\"\n",
      "    },\n",
      "    {\n",
      "      \"policy_text\": \"1.1.9.1 Authority to recruit and/ or appoint will be the Chief Executive or as delegated by him from time to time.\",\n",
      "      \"law_reference\": \"Section 203 of the Companies Act, 2013\",\n",
      "      \"explanation\": \"The policy does not specify the criteria for delegating the authority to recruit and appoint, which is required under the Companies Act, 2013.\",\n",
      "      \"suggested_fix\": \"Replace 1.1.9.1 with: 1.1.9.1 Authority to recruit and/ or appoint will be the Chief Executive, or as delegated by him in writing, with clear criteria and guidelines for delegation.\"\n",
      "    }\n",
      "  ]\n",
      "}\n",
      "```\n",
      "```json\n",
      "{\n",
      "  \"compliance_status\": \"Non-Compliant\",\n",
      "  \"violations\": [\n",
      "    {\n",
      "      \"policy_text\": \"1.1.12.2 HRD Department will make available to the members of the Selection Committee the following documents and particulars regarding the candidates at the time of interview: (a) A copy of the advertisement with specific requirements of the post; (b) Bio data of each candidate; (c) Applications in original; (d) Appraisal reports and comments of forwarding authority in case of internal candidates, wherever necessary; (e) Any special information considered to be relevant to the selection of any candidate.\",\n",
      "      \"law_reference\": \"Section 164, Companies Act, 2013\",\n",
      "      \"explanation\": \"The policy does not provide any information regarding the retention and disposal of personal data of candidates, which is a requirement under the Digital Personal Data Protection Act, 2023.\",\n",
      "      \"suggested_fix\": \"Add a clause to the policy stating that all personal data of candidates will be stored securely for a period of 3 months from the date of selection and will be disposed of in accordance with the company's data retention and disposal policy.\"\n",
      "    },\n",
      "    {\n",
      "      \"policy_text\": \"1.1.14.1 All appointments in the Company will be subject to the selected candidates being found medically fit by the Company’s Medical\",\n",
      "      \"law_reference\": \"Section 151, Companies Act, 2013\",\n",
      "      \"explanation\": \"The policy does not specify the criteria for medical examination, which is a requirement under the law.\",\n",
      "      \"suggested_fix\": \"Add a clause to the policy specifying the medical standards and criteria for medical examination, which should be in line with the requirements of the Medical Council of India.\"\n",
      "    },\n",
      "    {\n",
      "      \"policy_text\": \"1.1.13.2 The panel as approved by the competent authority shall be valid for a period of one year from the date of such approval. In exceptional cases, with justification to be recorded in writing, life of the panel may be further extended by the Chief Executive by not more than six months.\",\n",
      "      \"law_reference\": \"Section 21, Digital Personal Data Protection Act, 2023\",\n",
      "      \"explanation\": \"The policy does not provide any information regarding the data protection safeguards for the panel of selected candidates, which is a requirement under the law.\",\n",
      "      \"suggested_fix\": \"Add a clause to the policy stating that the panel of selected candidates will be stored securely and will be disposed of in accordance with the company's data retention and disposal policy.\"\n",
      "    }\n",
      "  ]\n",
      "}\n",
      "```\n",
      "\n",
      "The company policy is non-compliant with certain regulations, specifically:\n",
      "\n",
      "1.  The policy does not provide any information regarding the retention and disposal of personal data of candidates, which is a requirement under the Digital Personal Data Protection Act, 2023.\n",
      "2.  The policy does not specify the criteria for medical examination, which is a requirement under the Companies Act, 2013.\n",
      "3.  The policy does not provide any information regarding the data protection safeguards for the panel of selected candidates, which is a requirement under the Digital Personal Data Protection Act, 2023.\n",
      "\n",
      "To make the policy compliant, the suggested fixes are:\n",
      "\n",
      "1.  Add a clause to the policy stating that all personal data of candidates will be stored securely for a period of 3 months from the date of selection and will be disposed of in accordance with the company's data retention and disposal policy.\n",
      "2.  Add a clause to the policy specifying the medical standards and criteria for medical examination, which should be in line with the requirements of the Medical Council of India.\n",
      "3.  Add a clause to the policy stating that the panel of selected candidates will be stored securely and will be disposed of in accordance with the company's data retention and disposal policy.\n",
      "After analyzing the company policy and relevant regulatory context, I have found the following:\n",
      "\n",
      "{\n",
      "  \"compliance_status\": \"Non-Compliant\",\n",
      "  \"violations\": [\n",
      "    {\n",
      "      \"policy_text\": \"The decision of Medical Board constituted by the company will be final and binding.\",\n",
      "      \"law_reference\": \"Section 134(3) of the Companies Act, 2013\",\n",
      "      \"explanation\": \"This policy provision may be considered as a conflict of interest, as the company may be biased towards its own decisions. The law requires that the company's board of directors should maintain independence and objectivity in making decisions.\",\n",
      "      \"suggested_fix\": \"The decision of the Medical Board should be subject to review and approval by an independent third-party authority, such as a government-appointed medical board.\"\n",
      "    },\n",
      "    {\n",
      "      \"policy_text\": \"These rules shall not be applicable to executives: (a) who are appointed on tenure basis or who are reappointed/given extension after having attained the age of superannuation;\",\n",
      "      \"law_reference\": \"Section 139 of the Companies Act, 2013\",\n",
      "      \"explanation\": \"This provision may be considered as discriminatory towards certain employees who are appointed on a tenure basis or have been reappointed/given extension after attaining the age of superannuation. The law requires that all employees should be treated equally and without discrimination.\",\n",
      "      \"suggested_fix\": \"These rules shall apply to all employees, regardless of their tenure or appointment status.\"\n",
      "    },\n",
      "    {\n",
      "      \"policy_text\": \"An executive on deputation to another organisation may be considered for promotion in the Company during the period in accordance with selection methodology prescribed in these rules.\",\n",
      "      \"law_reference\": \"Article 7 of the Digital Personal Data Protection Act, 2023\",\n",
      "      \"explanation\": \"This provision may be considered as a violation of data protection principles, as it may involve the processing of personal data of deputationists. The law requires that personal data should be processed lawfully, transparently, and with the consent of the data principal.\",\n",
      "      \"suggested_fix\": \"Before considering an executive on deputation for promotion, the company should obtain explicit consent from the executive and ensure that their personal data is processed in accordance with the Digital Personal Data Protection Act, 2023.\"\n",
      "    }\n",
      "  ]\n",
      "}\n",
      "\n",
      "Note: These are just some of the potential violations that I have identified. There may be other areas of non-compliance that are not mentioned here.\n",
      "{\n",
      "  \"compliance_status\": \"Non-Compliant\",\n",
      "  \"violations\": [\n",
      "    {\n",
      "      \"policy_text\": \"1.1.19.5 The competent authority may fill up post(s) in any cadre by drawing executives from other cadre(s). The executives so drawn shall be treated on deputation to the post held and shall retain seniority in their parent cadre. They may, with the approval of the competent authority, be absorbed in the deputation cadre/post.\",\n",
      "      \"law_reference\": \"Section 198 of Companies Act, 2013\",\n",
      "      \"explanation\": \"The policy does not clearly outline the qualifications and experience required for executives to be eligible for deputation, which is a requirement under the Companies Act, 2013.\",\n",
      "      \"suggested_fix\": \"Add a clause outlining the qualifications and experience required for executives to be eligible for deputation.\"\n",
      "    },\n",
      "    {\n",
      "      \"policy_text\": \"1.1.21.4 The competent authority may relax the qualifying period at any time and without notice depending upon the needs of the Company with reasons to be recorded in writing.\",\n",
      "      \"law_reference\": \"Section 197 of Companies Act, 2013\",\n",
      "      \"explanation\": \"The policy does not clearly outline the procedures for relaxing the qualifying period, which is a requirement under the Companies Act, 2013.\",\n",
      "      \"suggested_fix\": \"Add a clause outlining the procedures for relaxing the qualifying period, including the approval process and reasons for relaxation.\"\n",
      "    },\n",
      "    {\n",
      "      \"policy_text\": \"1.1.20.4 All promotions from one grade/scale of pay to other grade/Scale of pay under the NALCO’s R&P rules will be promotion by selection through DPC on merit.\",\n",
      "      \"law_reference\": \"Digital Personal Data Protection Act, 2023\",\n",
      "      \"explanation\": \"The policy does not clearly outline the data protection procedures for processing personal data of employees during the promotion process, which is a requirement under the Digital Personal Data Protection Act, 2023.\",\n",
      "      \"suggested_fix\": \"Add a clause outlining the data protection procedures for processing personal data of employees during the promotion process, including obtaining consent and protecting sensitive information.\"\n",
      "    },\n",
      "    {\n",
      "      \"policy_text\": \"1.1.21.0 QUALIFYING PERIOD FOR PROMOTION\",\n",
      "      \"law_reference\": \"Digital Personal Data Protection Act, 2023\",\n",
      "      \"explanation\": \"The policy does not clearly outline the procedures for storing and processing employee data, including the retention period for employee records, which is a requirement under the Digital Personal Data Protection Act, 2023.\",\n",
      "      \"suggested_fix\": \"Add a clause outlining the procedures for storing and processing employee data, including the retention period for employee records.\"\n",
      "    }\n",
      "  ]\n",
      "}\n",
      "Based on the provided Company Policy and Regulatory Context, I have identified some potential non-compliances. Please note that this is not an exhaustive analysis, and a thorough review by a qualified professional is recommended.\n",
      "\n",
      "```json\n",
      "{\n",
      "  \"compliance_status\": \"Non-Compliant\",\n",
      "  \"violations\": [\n",
      "    {\n",
      "      \"policy_text\": \"Employees who fulfill the conditions of eligibility specified in rule 1.1.21.2 shall be considered for promotion.\",\n",
      "      \"law_reference\": \"The Companies Act, 2013, Section 134(3)(e) - disclosure of employee benefits and shareholding\",\n",
      "      \"explanation\": \"The policy does not specify how the conditions of eligibility are determined or communicated to employees, potentially leading to biased or unfair promotion decisions.\",\n",
      "      \"suggested_fix\": \"Add a transparent and objective process for determining eligibility conditions, including clear criteria and communication to employees.\"\n",
      "    },\n",
      "    {\n",
      "      \"policy_text\": \"The Chief Executive is competent to review and vary the above.\",\n",
      "      \"law_reference\": \"The Digital Personal Data Protection Act, 2023, Section 12(1) - data protection officer\",\n",
      "      \"explanation\": \"The policy allows the Chief Executive to review and vary the promotion process without specifying any data protection or transparency measures, potentially leading to unauthorized access or processing of personal data.\",\n",
      "      \"suggested_fix\": \"Clearly outline data protection measures and transparency requirements for any review or variation of the promotion process.\"\n",
      "    },\n",
      "    {\n",
      "      \"policy_text\": \"The vacancies at E1 to E6 grade occurring till 30th June of a year will be taken into consideration.\",\n",
      "      \"law_reference\": \"The Companies Act, 2013, Section 149(1) - board duties\",\n",
      "      \"explanation\": \"The policy does not specify how vacancies are assessed or reported to the board, potentially leading to inadequate or outdated information for decision-making.\",\n",
      "      \"suggested_fix\": \"Establish a clear process for assessing and reporting vacancies to the board, including regular updates and timely notifications.\"\n",
      "    },\n",
      "    {\n",
      "      \"policy_text\": \"The candidates selected for promotion shall be based on the recommendation of the DPC considering merit, seniority, qualification, performance & potential as assessed by DPC.\",\n",
      "      \"law_reference\": \"The Digital Personal Data Protection Act, 2023, Section 17(1) - data subject rights\",\n",
      "      \"explanation\": \"The policy does not specify how data subject rights (such as access, correction, or erasure) are addressed during the promotion process, potentially leading to unauthorized access or processing of personal data.\",\n",
      "      \"suggested_fix\": \"Clearly outline data subject rights and transparency requirements for the promotion process, including procedures for addressing employee requests.\"\n",
      "    }\n",
      "  ]\n",
      "}\n",
      "```\n",
      "\n",
      "Please note that this is a partial analysis, and a thorough review of the Company Policy and Regulatory Context is required to identify any additional potential non-compliances.\n",
      "After analyzing the provided company policy and relevant regulatory contexts, including the Companies Act, 2013 (India) and the Digital Personal Data Protection Act, 2023 (India), I have identified the following compliance status:\n",
      "\n",
      "```json\n",
      "{\n",
      "  \"compliance_status\": \"Non-Compliant\",\n",
      "  \"violations\": [\n",
      "    {\n",
      "      \"policy_text\": \"The orders in respect of promotions from E7 to E8 and E8 to E9 grades will be effective from the date of issue of orders in respect of vacancies as on the date of approval/ issue of orders.\",\n",
      "      \"law_reference\": \"Companies Act, 2013 (Section 178) - Board duties and responsibilities\",\n",
      "      \"explanation\": \"The policy does not specify that the promotion orders will be made available to all employees and will not contravene the principles of transparency and accountability as per Section 178 of the Companies Act, 2013.\",\n",
      "      \"suggested_fix\": \"The promotion orders from E7 to E8 and E8 to E9 grades should be made available to all employees on the company's intranet or a designated portal for transparency and accountability.\"\n",
      "    },\n",
      "    {\n",
      "      \"policy_text\": \"The promotions will be effective from the date of approval of Board. In absence of NRC due to non-availability of Independent Directors on Board, the recommendation of DPC shall be directly placed before the Board for approval.\",\n",
      "      \"law_reference\": \"Digital Personal Data Protection Act, 2023 (Section 13) - Consent and transparency\",\n",
      "      \"explanation\": \"The policy does not specify that the data of employees will be processed lawfully and transparently as per the Digital Personal Data Protection Act, 2023.\",\n",
      "      \"suggested_fix\": \"The company should obtain explicit consent from employees for processing their personal data and ensure transparency in data collection, storage, and use.\"\n",
      "    }\n",
      "  ]\n",
      "}\n",
      "```\n",
      "\n",
      "The company policy is non-compliant because it does not adequately address the principles of transparency, accountability, and consent as required by the relevant regulatory contexts. The suggested fixes aim to address these issues by ensuring transparency in promotion orders and obtaining explicit consent from employees for processing their personal data.\n",
      "{\n",
      "  \"compliance_status\": \"Non-Compliant\",\n",
      "  \"violations\": [\n",
      "    {\n",
      "      \"policy_text\": \"1.1.26.3 If their appraisal ratings remain at Grade-C for consecutively three years, the company may advise such executives to seek voluntary retirement under the scheme or withhold the normal increment till such employee improves his/her appraisal rating to 'C+'.\",\n",
      "      \"law_reference\": \"Companies Act, 2013 (Section 92) - Termination of employment\",\n",
      "      \"explanation\": \"The policy allows voluntary retirement without following the mandatory procedures outlined in the Companies Act, 2013. It also implies that an employee can be terminated or subjected to a performance improvement plan without adequate notice or due process.\",\n",
      "      \"suggested_fix\": \"1.1.26.3 If an employee's appraisal ratings remain at Grade-C for consecutively three years, the company should provide a written notice to the employee detailing the performance issues, offering support and training, and specifying the expected improvements. The employee should be given a reasonable opportunity to improve their performance before any adverse action is taken.\"\n",
      "    },\n",
      "    {\n",
      "      \"policy_text\": \"1.1.28.3 Where the disciplinary case / criminal case against the executive is not completed even after the expiry of two years from the date of issue of the charge sheet, the concerned executive may be considered for provisional promotion subject to his eligibility, provided he\",\n",
      "      \"law_reference\": \"Digital Personal Data Protection Act, 2023 (Section 26) - Data subject rights\",\n",
      "      \"explanation\": \"The policy implies that an executive's personal data, including any disciplinary or criminal charges, can be used to affect their career advancement without regard for their data subject rights. The policy does not provide any mechanism for the executive to access, correct, or erase their personal data as mandated by the DPDP Act.\",\n",
      "      \"suggested_fix\": \"1.1.28.3 Where the disciplinary case / criminal case against the executive is not completed even after the expiry of two years from the date of issue of the charge sheet, the concerned executive should be provided with access to their personal data, including any disciplinary or criminal charges, and allowed to correct or erase any inaccurate or incomplete information before any decision regarding their career advancement is made.\"\n",
      "    },\n",
      "    {\n",
      "      \"policy_text\": \"1.1.28.2 If an Executive is completely exonerated of the charges i.e. no blame whatsoever attaches to him, he will be promoted from due date if so recommended by the DPC.\",\n",
      "      \"law_reference\": \"Companies Act, 2013 (Section 92) - Termination of employment\",\n",
      "      \"explanation\": \"The policy provides for automatic promotion to an executive who is exonerated of charges, regardless of their performance or qualifications. This may be seen as preferential treatment and could be viewed as unfair to other employees.\",\n",
      "      \"suggested_fix\": \"1.1.28.2 If an Executive is completely exonerated of the charges i.e. no blame whatsoever attaches to him, their promotion should be considered by the DPC in the context of their overall performance and qualifications, rather than automatically being granted.\"\n",
      "    }\n",
      "  ]\n",
      "}\n",
      "{\n",
      "  \"compliance_status\": \"Non-Compliant\",\n",
      "  \"violations\": [\n",
      "    {\n",
      "      \"policy_text\": \"The executive on whom any penalty other than censure is imposed shall not be considered for promotion in subsequent two DPCs when it is due.\",\n",
      "      \"law_reference\": \"Digital Personal Data Protection Act, 2023 (India), Section 8(1)(a)\",\n",
      "      \"explanation\": \"This policy provision violates the DPDP Act, 2023, which requires organizations to ensure that data protection decisions are not influenced by factors unrelated to the individual's personal data processing. The policy provision may lead to discrimination against individuals who have been penalized and may impact their career prospects unfairly.\",\n",
      "      \"suggested_fix\": \"Remove the provision that prohibits promotion for a specified period after a penalty is imposed, and instead, consider introducing a more nuanced approach that balances the need to consider an individual's disciplinary record with the need to ensure fairness and non-discrimination.\"\n",
      "    },\n",
      "    {\n",
      "      \"policy_text\": \"An executive who has been censured shall not be considered for promotion in subsequent one DPC when it is due.\",\n",
      "      \"law_reference\": \"Digital Personal Data Protection Act, 2023 (India), Section 8(1)(a)\",\n",
      "      \"explanation\": \"This policy provision also violates the DPDP Act, 2023, as it may lead to unfair discrimination against individuals who have been censured. The provision may impact their career prospects unfairly and may not be justified by a legitimate reason related to the individual's personal data processing.\",\n",
      "      \"suggested_fix\": \"Remove the provision that prohibits promotion for a specified period after a censure is imposed, and instead, consider introducing a more nuanced approach that balances the need to consider an individual's disciplinary record with the need to ensure fairness and non-discrimination.\"\n",
      "    },\n",
      "    {\n",
      "      \"policy_text\": \"The provisional promotion will be valid until further orders and shall not confer any right for regular promotion.\",\n",
      "      \"law_reference\": \"Companies Act, 2013 (India), Section 197(3)(a)\",\n",
      "      \"explanation\": \"This policy provision may be in conflict with the Companies Act, 2013, which requires that employees be considered for regular promotion based on their seniority and merit. The policy provision may lead to unfair treatment of employees who have been granted provisional promotions.\",\n",
      "      \"suggested_fix\": \"Review the policy provision to ensure that it is consistent with the Companies Act, 2013, and consider introducing a more transparent and merit-based approach to regular promotions.\"\n",
      "    },\n",
      "    {\n",
      "      \"policy_text\": \"The concerned executives shall not be confirmed in the higher post until promotion is regularised.\",\n",
      "      \"law_reference\": \"Companies Act, 2013 (India), Section 197(3)(a)\",\n",
      "      \"explanation\": \"This policy provision may also be in conflict with the Companies Act, 2013, which requires that employees be considered for regular promotion based on their seniority and merit. The policy provision may lead to unfair treatment of employees who have been granted provisional promotions.\",\n",
      "      \"suggested_fix\": \"Review the policy provision to ensure that it is consistent with the Companies Act, 2013, and consider introducing a more transparent and merit-based approach to regular promotions.\"\n",
      "    }\n",
      "  ]\n",
      "}\n",
      "After carefully analyzing the provided company policy and regulatory context, I have identified potential non-compliances with the Digital Personal Data Protection Act, 2023 (DPDP Act). Here is the result in JSON format:\n",
      "\n",
      "```json\n",
      "{\n",
      "  \"compliance_status\": \"Non-Compliant\",\n",
      "  \"violations\": [\n",
      "    {\n",
      "      \"policy_text\": \"1.1.29.4 In case of Engineer/Management Trainees joining in a batch, the inter-se seniority of the trainees on their regularisation in the respective cadres shall be determined by their merit position as evaluated in the tests, their performance and conduct, in terms of approved GET/MT Scheme.\",\n",
      "      \"law_reference\": \"Section 12(1)(b) of the DPDP Act, 2023\",\n",
      "      \"explanation\": \"The company's policy does not provide explicit consent from the trainees for processing their personal data for seniority determination. Additionally, there is no transparency about the data processing activities.\",\n",
      "      \"suggested_fix\": \"The company should obtain explicit consent from the trainees before processing their personal data for seniority determination. The company should also provide clear transparency about the data processing activities, including the purposes, recipients, and retention periods.\"\n",
      "    },\n",
      "    {\n",
      "      \"policy_text\": \"1.1.29.5 In case of deputationists getting absorbed in the Company, the seniority shall be reckoned from the date they had joined the deputation post.\",\n",
      "      \"law_reference\": \"Section 14(1)(a) of the DPDP Act, 2023\",\n",
      "      \"explanation\": \"The company's policy requires the deputationists' personal data to be processed for seniority determination without any lawful grounds. This is a violation of the data minimization principle.\",\n",
      "      \"suggested_fix\": \"The company should obtain explicit consent from the deputationists before processing their personal data for seniority determination. The company should only process the minimum amount of personal data necessary for seniority determination.\"\n",
      "    },\n",
      "    {\n",
      "      \"policy_text\": \"1.1.30.1 Any employee, who is aggrieved by an order of promotion on any ground, may appeal to the competent authority through proper channel within a month of the date of issue of the order granting such promotion.\",\n",
      "      \"law_reference\": \"Section 20(1)(c) of the DPDP Act, 2023\",\n",
      "      \"explanation\": \"The company's policy does not provide a clear grievance redressal mechanism for employees who are aggrieved by an order of promotion. This is a violation of the data subject rights.\",\n",
      "      \"suggested_fix\": \"The company should establish a clear grievance redressal mechanism for employees who are aggrieved by an order of promotion. The company should also provide timely and effective responses to the employees' complaints.\"\n",
      "    }\n",
      "  ]\n",
      "}\n",
      "```\n",
      "\n",
      "Note: The law references provided are for illustrative purposes only and may not be the exact article numbers, as the DPDP Act, 2023 is a relatively new legislation and the exact article numbers may be subject to change.\n",
      "{\n",
      "  \"compliance_status\": \"Non-Compliant\",\n",
      "  \"violations\": [\n",
      "    {\n",
      "      \"policy_text\": \"The probation assessment will be regulated through the “Probation Assessment Scheme for Executives” as decided/modified by the Competent Authority from time to time.\",\n",
      "      \"law_reference\": \"Companies Act, 2013, Section 134(3)(d)\",\n",
      "      \"explanation\": \"The policy does not specify the criteria for the Probation Assessment Scheme for Executives, which is a requirement under the Companies Act, 2013. The law requires that the audit committee shall formulate the framework for performance evaluation of non-executive directors, executive directors and the Board of Directors. However, the policy does not mention anything about the performance evaluation of the probation assessment scheme.\",\n",
      "      \"suggested_fix\": \"The probation assessment will be regulated through a transparent and well-defined Probation Assessment Scheme for Executives, as decided/modified by the Competent Authority from time to time, and will be subject to regular review and evaluation to ensure that it meets the requirements of the Companies Act, 2013.\"\n",
      "    },\n",
      "    {\n",
      "      \"policy_text\": \"The Board of Directors is the competent authority to amend or cancel these rules or any part thereof at any time without notice.\",\n",
      "      \"law_reference\": \"Companies Act, 2013, Section 117(2)\",\n",
      "      \"explanation\": \"The policy states that the Board of Directors can amend or cancel the rules without notice, which is not in line with the Companies Act, 2013. The law requires that the Board of Directors must give notice to the members before amending or canceling any rules.\",\n",
      "      \"suggested_fix\": \"The Board of Directors shall give notice to the members before amending or canceling any rules, as per the requirements of the Companies Act, 2013.\"\n",
      "    },\n",
      "    {\n",
      "      \"policy_text\": \"The probation assessment will be regulated through the “Probation Assessment Scheme for Executives” as decided/modified by the Competent Authority from time to time.\",\n",
      "      \"law_reference\": \"Digital Personal Data Protection Act, 2023, Section 24\",\n",
      "      \"explanation\": \"The policy does not specify the criteria for the Probation Assessment Scheme for Executives, which is a requirement under the Digital Personal Data Protection Act, 2023. The law requires that the data fiduciary must establish a transparent and accountable framework for the processing of personal data, including the criteria for the assessment of probation.\",\n",
      "      \"suggested_fix\": \"The probation assessment will be regulated through a transparent and well-defined Probation Assessment Scheme for Executives, as decided/modified by the Competent Authority from time to time, and will be subject to regular review and evaluation to ensure that it meets the requirements of the Digital Personal Data Protection Act, 2023.\"\n",
      "    },\n",
      "    {\n",
      "      \"policy_text\": \"If the probationer was placed in a higher post/ grade by way of promotion, he will be reverted back to his earlier post/grade.\",\n",
      "      \"law_reference\": \"Companies Act, 2013, Section 196(1)\",\n",
      "      \"explanation\": \"The policy states that a probationer who has been promoted will be reverted back to their earlier post, which is not in line with the Companies Act, 2013. The law allows companies to offer promotion to employees during the probation period, but it does not require them to revert the employee back to their earlier post.\",\n",
      "      \"suggested_fix\": \"The company shall consider the employee's performance and suitability for the higher post, and shall make a decision on whether to offer them a permanent promotion or revert them back to their earlier post, as per the requirements of the Companies Act, 2013.\"\n",
      "    }\n",
      "  ]\n",
      "}\n",
      "```json\n",
      "{\n",
      "  \"compliance_status\": \"Non-Compliant\",\n",
      "  \"violations\": [\n",
      "    {\n",
      "      \"policy_text\": \"in the interest of the Company. (4) MBBS/BDS doctors without any experience may be inducted at E0 grade based on the score obtained in NEET-PG and interview with weightage of 90% and 10% respectively.\",\n",
      "      \"law_reference\": \"Companies Act, 2013, Section 149(1)\",\n",
      "      \"explanation\": \"The policy does not specify the minimum educational qualifications for MBBS/BDS doctors. The Companies Act, 2013, requires that the board of directors consists of individuals with relevant qualifications and experience.\",\n",
      "      \"suggested_fix\": \"MBBS/BDS doctors should have a recognized medical degree from a reputable institution and at least 2 years of experience in the field.\"\n",
      "    },\n",
      "    {\n",
      "      \"policy_text\": \"However, MBBS/BDS having post qualification experience of one year may be inducted at E1 grade.\",\n",
      "      \"law_reference\": \"Companies Act, 2013, Section 149(1)\",\n",
      "      \"explanation\": \"The policy does not specify the minimum educational qualifications for MBBS/BDS doctors with post-qualification experience. The Companies Act, 2013, requires that the board of directors consists of individuals with relevant qualifications and experience.\",\n",
      "      \"suggested_fix\": \"MBBS/BDS doctors with post-qualification experience should have a recognized medical degree from a reputable institution and at least 3 years of experience in the field.\"\n",
      "    },\n",
      "    {\n",
      "      \"policy_text\": \"(5) MD/MS/Recognised post MBBS Diploma without any experience will inducted at E2 grade and for E3 grade it will be 03 years post qualification experience and for next higher grades it will increase with 03 years for each grade.\",\n",
      "      \"law_reference\": \"Companies Act, 2013, Section 149(1)\",\n",
      "      \"explanation\": \"The policy does not specify the minimum educational qualifications for MD/MS/Recognised post MBBS Diploma. The Companies Act, 2013, requires that the board of directors consists of individuals with relevant qualifications and experience.\",\n",
      "      \"suggested_fix\": \"MD/MS/Recognised post MBBS Diploma should have a recognized medical degree from a reputable institution and at least 3 years of experience in the field.\"\n",
      "    },\n",
      "    {\n",
      "      \"policy_text\": \"ANNEXURE-B PRESCRIBED QUALIFICATION FOR APPOINTMENTS TO CADRE/EX-CADRE EXECUTIVE POSTS\",\n",
      "      \"law_reference\": \"Digital Personal Data Protection Act, 2023, Section 12(1)\",\n",
      "      \"explanation\": \"The policy does not specify the requirements for data protection and privacy. The Digital Personal Data Protection Act, 2023, requires that data fiduciaries implement data protection policies and procedures to protect personal data.\",\n",
      "      \"suggested_fix\": \"The company should implement data protection policies and procedures to protect personal data, including data minimization, transparency, and consent.\"\n",
      "    },\n",
      "    {\n",
      "      \"policy_text\": \"1 Chemical Engineering Degree in Chemical Engineering OR M.Tech in Applied Chemistry\",\n",
      "      \"law_reference\": \"Companies Act, 2013, Section 149(1)\",\n",
      "      \"explanation\": \"The policy does not specify the requirements for chemical engineers. The Companies Act, 2013, requires that the board of directors consists of individuals with relevant qualifications and experience.\",\n",
      "      \"suggested_fix\": \"Chemical engineers should have a degree in chemical engineering from a reputable institution and at least 3 years of experience in the field.\"\n",
      "    }\n",
      "  ]\n",
      "}\n",
      "```\n",
      "\n",
      "Note: The above JSON response indicates that the company policy is non-compliant with the regulations. The policy violates the Companies Act, 2013, and the Digital Personal Data Protection Act, 2023. The suggested fixes are provided to ensure compliance with the regulations.\n",
      "{\n",
      "  \"compliance_status\": \"Non-Compliant\",\n",
      "  \"violations\": [\n",
      "    {\n",
      "      \"policy_text\": \"Degree in any discipline is essential.\",\n",
      "      \"law_reference\": \"Digital Personal Data Protection Act, 2023 (India) - Section 12(1)\",\n",
      "      \"explanation\": \"The policy does not specify any data protection measures or consent requirements for processing personal data. It also does not mention the necessity of data minimization or cross-border transfer rules.\",\n",
      "      \"suggested_fix\": \"Add a clause stating that the company will only collect and process personal data that is necessary for the purpose of employment and will obtain explicit consent from employees for data processing. Also, include a data minimization policy and procedures for cross-border data transfers.\"\n",
      "    },\n",
      "    {\n",
      "      \"policy_text\": \"Recognised Public Relations & Corporate 6 PG Diploma in Journalism OR Mass Communication Communication OR Creative Writing is desirable.\",\n",
      "      \"law_reference\": \"Digital Personal Data Protection Act, 2023 (India) - Section 12(2)\",\n",
      "      \"explanation\": \"The policy does not specify any data protection measures or consent requirements for processing personal data related to Public Relations & Corporate Communications. It also does not mention the necessity of data minimization or cross-border transfer rules.\",\n",
      "      \"suggested_fix\": \"Add a clause stating that the company will only collect and process personal data related to Public Relations & Corporate Communications that is necessary for the purpose of employment and will obtain explicit consent from employees for data processing. Also, include a data minimization policy and procedures for cross-border data transfers.\"\n",
      "    },\n",
      "    {\n",
      "      \"policy_text\": \"Qualification for both Cadre and Ex-cadre posts may be formulated with the approval of Competent Authority.\",\n",
      "      \"law_reference\": \"Companies Act, 2013 (India) - Section 149(2)\",\n",
      "      \"explanation\": \"The policy does not specify any requirements for independence of the Competent Authority, which may lead to conflicts of interest or undue influence.\",\n",
      "      \"suggested_fix\": \"Specify that the Competent Authority must be independent and impartial, and that the company will take steps to ensure that the Competent Authority's decisions are based on merit and not influenced by personal relationships or other factors.\"\n",
      "    }\n",
      "  ]\n",
      "}\n",
      "{\n",
      "  \"compliance_status\": \"Non-Compliant\",\n",
      "  \"violations\": [\n",
      "    {\n",
      "      \"policy_text\": \"Disciplines not covered above, shall be independent cadres for promotion to posts upto E-8 level.\",\n",
      "      \"law_reference\": \"Companies Act, 2013 - Section 178(1)\",\n",
      "      \"explanation\": \"The policy does not specify the criteria for promotion to posts above E-8 level, which is a requirement under the Companies Act, 2013. The Act mandates that the board of directors shall, subject to the provisions of this Act, be responsible for the management of the company's affairs and shall act in a manner that promotes the long-term sustainability and success of the company.\",\n",
      "      \"suggested_fix\": \"The policy should specify the criteria for promotion to posts above E-8 level, including the qualifications, experience, and skills required for such promotions.\"\n",
      "    },\n",
      "    {\n",
      "      \"policy_text\": \"Relaxed Qualification For Promotion (ANNEXURE-E)\",\n",
      "      \"law_reference\": \"Digital Personal Data Protection Act, 2023 - Clause 12(1)\",\n",
      "      \"explanation\": \"The policy does not specify the measures to be taken to protect the personal data of employees, which is a requirement under the Digital Personal Data Protection Act, 2023. The Act mandates that a data fiduciary shall implement appropriate security safeguards to protect the personal data of data principals.\",\n",
      "      \"suggested_fix\": \"The policy should specify the measures to be taken to protect the personal data of employees, including the implementation of appropriate security safeguards and data protection policies.\"\n",
      "    },\n",
      "    {\n",
      "      \"policy_text\": \"Disciplines not covered above, shall be independent cadres for promotion to posts upto E-8 level. 2. Vigilance- May be taken on deputation from other cadres. 3. R & D: May be drawn from other cadres on immediate absorption basis.\",\n",
      "      \"law_reference\": \"Companies Act, 2013 - Section 196\",\n",
      "      \"explanation\": \"The policy does not specify the criteria for deputation or absorption of employees from other cadres, which is a requirement under the Companies Act, 2013. The Act mandates that a company shall not appoint or depute any director or manager who is not a director or manager of the company, without the approval of the board of directors.\",\n",
      "      \"suggested_fix\": \"The policy should specify the criteria for deputation or absorption of employees from other cadres, including the qualifications, experience, and skills required for such appointments.\"\n",
      "    }\n",
      "  ]\n",
      "}\n",
      "{\n",
      "  \"compliance_status\": \"Non-Compliant\",\n",
      "  \"violations\": [\n",
      "    {\n",
      "      \"policy_text\": \"with proficiency Certificate in 10 Secretarial including Shorthand. Coordination. -- 11 Raja Bhasa Degree in any discipline with diploma in 12 Documentation Library Science. Degree in any discipline with Inter CS. 13 Company Secretary Notes: Other discipline/functions not mentioned above will be considered as Ex-cadre. Vigilance: May be taken on deputation from other cadres initially for a period of 3 years. R & D : May be drawn from other cadres on immediate absorption basis.\",\n",
      "      \"law_reference\": \"Companies Act, 2013 (Section 149) and Digital Personal Data Protection Act, 2023 (Section 11 & 12)\",\n",
      "      \"explanation\": \"The policy does not clearly outline the qualifications and experience required for promotion to executive level posts. Additionally, it does not mention the consent and transparency requirements as per the Digital Personal Data Protection Act, 2023.\",\n",
      "      \"suggested_fix\": \"Update the policy to clearly outline the qualifications and experience required for promotion to executive level posts. Include a clause that outlines the consent and transparency requirements for processing digital personal data as per the Digital Personal Data Protection Act, 2023. For example: \\\"The company will only consider candidates with a degree in any discipline and relevant professional qualification. The company will obtain explicit consent from candidates for processing their personal data and ensure transparency in data processing practices.\\\"\"\n",
      "    },\n",
      "    {\n",
      "      \"policy_text\": \"The prescribed relaxed qualifications are required for promotion to Executive level posts (except where candidates have been recruited to executive level with degree in any discipline as essential qualification and relevant professional qualification as desirable) and should be from recognised universities/Institutions of repute conferring Degree/Diplomas which are recognised by the Government of India and the candidates should have in line experience.\",\n",
      "      \"law_reference\": \"Companies Act, 2013 (Section 149)\",\n",
      "      \"explanation\": \"The policy does not clearly outline the criteria for considering candidates with relaxed qualifications. It does not specify the criteria for recognizing universities/institutions of repute and the degrees/diplomas recognized by the Government of India.\",\n",
      "      \"suggested_fix\": \"Update the policy to clearly outline the criteria for considering candidates with relaxed qualifications. Specify the criteria for recognizing universities/institutions of repute and the degrees/diplomas recognized by the Government of India. For example: \\\"The company will consider candidates with relaxed qualifications who have a degree from a recognized university/institution of repute and have relevant professional experience. The degrees/diplomas recognized by the Government of India will be considered as equivalent qualifications.\\\"\"\n",
      "    }\n",
      "  ]\n",
      "}\n"
     ]
    }
   ],
   "source": [
    "#Run RAG pipeline\n",
    "\n",
    "for chunk in hr_policy_chunks:\n",
    "    related_regulations = retriever.get_relevant_documents(hr_policy_text)\n",
    "    regulation_context = \"\\n\".join([doc.page_content for doc in related_regulations])\n",
    "    result = compliance_chain.run(company_policy=chunk, regulations=regulation_context)\n",
    "    print(result)"
   ]
  }
 ],
 "metadata": {
  "kernelspec": {
   "display_name": "rcc_venv",
   "language": "python",
   "name": "python3"
  },
  "language_info": {
   "codemirror_mode": {
    "name": "ipython",
    "version": 3
   },
   "file_extension": ".py",
   "mimetype": "text/x-python",
   "name": "python",
   "nbconvert_exporter": "python",
   "pygments_lexer": "ipython3",
   "version": "3.12.7"
  }
 },
 "nbformat": 4,
 "nbformat_minor": 5
}
